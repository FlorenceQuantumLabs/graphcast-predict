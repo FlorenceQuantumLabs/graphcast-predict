{
  "nbformat": 4,
  "nbformat_minor": 0,
  "metadata": {
    "colab": {
      "provenance": []
    },
    "kernelspec": {
      "name": "python3",
      "display_name": "Python 3"
    },
    "accelerator": "GPU"
  },
  "cells": [
    {
      "cell_type": "markdown",
      "metadata": {
        "id": "PST9Fp7YWr9H"
      },
      "source": [
        "# JAX Introduction\n",
        "\n",
        "Companion code for this article: https://iaml.it/blog/jax-intro/"
      ]
    },
    {
      "cell_type": "markdown",
      "metadata": {
        "id": "lN_abUsPxFYv"
      },
      "source": [
        "## Install"
      ]
    },
    {
      "cell_type": "code",
      "metadata": {
        "id": "tP13g5ylv9Xw",
        "outputId": "719cc553-ec26-4ea6-ff32-c48b9c07a32c",
        "colab": {
          "base_uri": "https://localhost:8080/",
          "height": 510
        }
      },
      "source": [
        "# If not working, check here for the latest installation instructions --> https://jax.readthedocs.io/en/latest/\n",
        "!pip install --upgrade https://storage.googleapis.com/jax-wheels/cuda92/jaxlib-0.1.4-py3-none-linux_x86_64.whl\n",
        "!pip install --upgrade jax"
      ],
      "execution_count": null,
      "outputs": [
        {
          "output_type": "stream",
          "text": [
            "Collecting jaxlib==0.1.4 from https://storage.googleapis.com/jax-wheels/cuda92/jaxlib-0.1.4-py3-none-linux_x86_64.whl\n",
            "\u001b[?25l  Downloading https://storage.googleapis.com/jax-wheels/cuda92/jaxlib-0.1.4-py3-none-linux_x86_64.whl (28.3MB)\n",
            "\u001b[K    100% |████████████████████████████████| 28.3MB 1.3MB/s \n",
            "\u001b[?25hRequirement already satisfied, skipping upgrade: protobuf>=3.6.0 in /usr/local/lib/python3.6/dist-packages (from jaxlib==0.1.4) (3.6.1)\n",
            "Requirement already satisfied, skipping upgrade: six in /usr/local/lib/python3.6/dist-packages (from jaxlib==0.1.4) (1.11.0)\n",
            "Requirement already satisfied, skipping upgrade: absl-py in /usr/local/lib/python3.6/dist-packages (from jaxlib==0.1.4) (0.6.1)\n",
            "Requirement already satisfied, skipping upgrade: numpy>=1.12 in /usr/local/lib/python3.6/dist-packages (from jaxlib==0.1.4) (1.14.6)\n",
            "Requirement already satisfied, skipping upgrade: setuptools in /usr/local/lib/python3.6/dist-packages (from protobuf>=3.6.0->jaxlib==0.1.4) (40.6.3)\n",
            "Installing collected packages: jaxlib\n",
            "Successfully installed jaxlib-0.1.4\n",
            "Collecting jax\n",
            "\u001b[?25l  Downloading https://files.pythonhosted.org/packages/5b/a3/2a302af77597c05ef3719075345aa33d090cfc060be6164e667569a4d303/jax-0.1.16.tar.gz (145kB)\n",
            "\u001b[K    100% |████████████████████████████████| 153kB 13.4MB/s \n",
            "\u001b[?25hRequirement already satisfied, skipping upgrade: numpy>=1.12 in /usr/local/lib/python3.6/dist-packages (from jax) (1.14.6)\n",
            "Requirement already satisfied, skipping upgrade: six in /usr/local/lib/python3.6/dist-packages (from jax) (1.11.0)\n",
            "Requirement already satisfied, skipping upgrade: protobuf>=3.6.0 in /usr/local/lib/python3.6/dist-packages (from jax) (3.6.1)\n",
            "Requirement already satisfied, skipping upgrade: absl-py in /usr/local/lib/python3.6/dist-packages (from jax) (0.6.1)\n",
            "Collecting opt_einsum (from jax)\n",
            "\u001b[?25l  Downloading https://files.pythonhosted.org/packages/f6/d6/44792ec668bcda7d91913c75237314e688f70415ab2acd7172c845f0b24f/opt_einsum-2.3.2.tar.gz (59kB)\n",
            "\u001b[K    100% |████████████████████████████████| 61kB 23.5MB/s \n",
            "\u001b[?25hRequirement already satisfied, skipping upgrade: setuptools in /usr/local/lib/python3.6/dist-packages (from protobuf>=3.6.0->jax) (40.6.3)\n",
            "Building wheels for collected packages: jax, opt-einsum\n",
            "  Running setup.py bdist_wheel for jax ... \u001b[?25l-\b \b\\\b \bdone\n",
            "\u001b[?25h  Stored in directory: /root/.cache/pip/wheels/82/f9/16/df8fff7842b4c5d2de204afeb0447e5f172c01e4621d149594\n",
            "  Running setup.py bdist_wheel for opt-einsum ... \u001b[?25l-\b \bdone\n",
            "\u001b[?25h  Stored in directory: /root/.cache/pip/wheels/51/3e/a3/b351fae0cbf15373c2136a54a70f43fea5fe91d8168a5faaa4\n",
            "Successfully built jax opt-einsum\n",
            "Installing collected packages: opt-einsum, jax\n",
            "Successfully installed jax-0.1.16 opt-einsum-2.3.2\n"
          ],
          "name": "stdout"
        }
      ]
    },
    {
      "cell_type": "markdown",
      "metadata": {
        "id": "B-GWqOljxHZK"
      },
      "source": [
        "## Basic 1 - NumPy acceleration"
      ]
    },
    {
      "cell_type": "code",
      "metadata": {
        "id": "Rq_PlVchRFTa",
        "outputId": "d2cb6359-d8fd-4270-fae1-f28c0b7ebf2f",
        "colab": {
          "base_uri": "https://localhost:8080/",
          "height": 34
        }
      },
      "source": [
        "# Let's try a simple computation on NumPy\n",
        "import numpy as np\n",
        "\n",
        "x = np.ones((5000, 5000))\n",
        "y = np.arange(5000)\n",
        "\n",
        "%timeit -n10 -r3 np.sin(x) + np.cos(y)"
      ],
      "execution_count": null,
      "outputs": [
        {
          "output_type": "stream",
          "text": [
            "10 loops, best of 3: 472 ms per loop\n"
          ],
          "name": "stdout"
        }
      ]
    },
    {
      "cell_type": "code",
      "metadata": {
        "id": "sYDeUfRnxG9O",
        "outputId": "34411fac-215f-4b7d-da9d-2f2f3e2f33d1",
        "colab": {
          "base_uri": "https://localhost:8080/",
          "height": 68
        }
      },
      "source": [
        "# Same on JAX\n",
        "import jax.numpy as np\n",
        "\n",
        "x = np.ones((5000, 5000))\n",
        "y = np.arange(5000)\n",
        "\n",
        "%timeit -n10 -r3 np.sin(x) + np.cos(y)"
      ],
      "execution_count": null,
      "outputs": [
        {
          "output_type": "stream",
          "text": [
            "/usr/lib/python3.6/importlib/_bootstrap.py:219: RuntimeWarning: compiletime version 3.5 of module 'lapack' does not match runtime version 3.6\n",
            "  return f(*args, **kwds)\n"
          ],
          "name": "stderr"
        },
        {
          "output_type": "stream",
          "text": [
            "10 loops, best of 3: 30.5 ms per loop\n"
          ],
          "name": "stdout"
        }
      ]
    },
    {
      "cell_type": "code",
      "metadata": {
        "id": "V1h3YR3cUrhA",
        "outputId": "e3242531-f636-4944-86d7-100a0d02c940",
        "colab": {
          "base_uri": "https://localhost:8080/",
          "height": 34
        }
      },
      "source": [
        "def fn(x, y):\n",
        "  z = np.sin(x)\n",
        "  w = np.cos(y)\n",
        "  return z + w\n",
        "\n",
        "%timeit -n10 -r3 fn(x, y)"
      ],
      "execution_count": null,
      "outputs": [
        {
          "output_type": "stream",
          "text": [
            "10 loops, best of 3: 30.2 ms per loop\n"
          ],
          "name": "stdout"
        }
      ]
    },
    {
      "cell_type": "code",
      "metadata": {
        "id": "zcpKE3BtVV_Q",
        "outputId": "097de12b-673f-4d82-9e9a-3f9f4129ba56",
        "colab": {
          "base_uri": "https://localhost:8080/",
          "height": 34
        }
      },
      "source": [
        "from jax import jit\n",
        "\n",
        "@jit\n",
        "def fn(x, y):\n",
        "  z = np.sin(x)\n",
        "  w = np.cos(y)\n",
        "  return z + w\n",
        "\n",
        "%timeit -n10 -r3 fn(x, y)"
      ],
      "execution_count": null,
      "outputs": [
        {
          "output_type": "stream",
          "text": [
            "10 loops, best of 3: 20.3 ms per loop\n"
          ],
          "name": "stdout"
        }
      ]
    },
    {
      "cell_type": "code",
      "metadata": {
        "id": "F--UzL4REQ9s",
        "outputId": "b11d2fec-e842-442e-e33e-05b615428763",
        "colab": {
          "base_uri": "https://localhost:8080/",
          "height": 34
        }
      },
      "source": [
        "# Alternative\n",
        "\n",
        "def fn(x, y):\n",
        "  z = np.sin(x)\n",
        "  w = np.cos(y)\n",
        "  return z + w\n",
        "\n",
        "fn = jit(fn)\n",
        "\n",
        "%timeit -n10 -r3 fn(x, y)"
      ],
      "execution_count": null,
      "outputs": [
        {
          "output_type": "stream",
          "text": [
            "10 loops, best of 3: 20.2 ms per loop\n"
          ],
          "name": "stdout"
        }
      ]
    },
    {
      "cell_type": "markdown",
      "metadata": {
        "id": "KF1XIC-oUMUH"
      },
      "source": [
        "## Medium 1 - Gradient computation"
      ]
    },
    {
      "cell_type": "code",
      "metadata": {
        "id": "kyXY2JTPULzc"
      },
      "source": [
        "@jit\n",
        "def simple_fun(x):\n",
        "  return np.sin(x) / x"
      ],
      "execution_count": null,
      "outputs": []
    },
    {
      "cell_type": "code",
      "metadata": {
        "id": "9OrREh0KUC9P",
        "outputId": "694cf228-66f0-448a-a453-aa3820ae1ec5",
        "colab": {
          "base_uri": "https://localhost:8080/",
          "height": 347
        }
      },
      "source": [
        "import matplotlib.pyplot as plt\n",
        "x_range = np.arange(-8.0, 8.0, 0.1) # Bug: https://github.com/google/jax/issues/145\n",
        "plt.plot(x_range, simple_fun(x_range))\n",
        "plt.show()"
      ],
      "execution_count": null,
      "outputs": [
        {
          "output_type": "display_data",
          "data": {
            "image/png": "[encoded data removed]",
            "text/plain": [
              "<matplotlib.figure.Figure at 0x7f86557e6da0>"
            ]
          },
          "metadata": {
            "tags": []
          }
        }
      ]
    },
    {
      "cell_type": "code",
      "metadata": {
        "id": "HqbeBqBBWBUE"
      },
      "source": [
        "from jax import grad\n",
        "grad_simple_fun = grad(simple_fun)"
      ],
      "execution_count": null,
      "outputs": []
    },
    {
      "cell_type": "code",
      "metadata": {
        "id": "5q_wEeKHVvaP",
        "outputId": "b1836cde-5499-4565-d1d0-4a676aabbcd6",
        "colab": {
          "base_uri": "https://localhost:8080/",
          "height": 347
        }
      },
      "source": [
        "plt.plot(x_range, [grad_simple_fun(xi) for xi in x_range], '--r')\n",
        "plt.show()"
      ],
      "execution_count": null,
      "outputs": [
        {
          "output_type": "display_data",
          "data": {
            "image/png": "[encoded data removed]",
            "text/plain": [
              "<matplotlib.figure.Figure at 0x7f86557e66a0>"
            ]
          },
          "metadata": {
            "tags": []
          }
        }
      ]
    },
    {
      "cell_type": "code",
      "metadata": {
        "id": "51T6_7KFEo7w"
      },
      "source": [
        "grad_grad_simple_fun = grad(grad(simple_fun))"
      ],
      "execution_count": null,
      "outputs": []
    },
    {
      "cell_type": "code",
      "metadata": {
        "id": "b8lDqjZfEuXN",
        "outputId": "7acbc7c4-104f-4b64-a570-c54ff8ea4425",
        "colab": {
          "base_uri": "https://localhost:8080/",
          "height": 347
        }
      },
      "source": [
        "plt.plot(x_range, simple_fun(x_range), 'b')\n",
        "plt.plot(x_range, [grad_simple_fun(xi) for xi in x_range], '--r')\n",
        "plt.plot(x_range, [grad_grad_simple_fun(xi) for xi in x_range], '--g')\n",
        "plt.show()"
      ],
      "execution_count": null,
      "outputs": [
        {
          "output_type": "display_data",
          "data": {
            "image/png": "[encoded data removed]",
            "text/plain": [
              "<matplotlib.figure.Figure at 0x7f865377dd30>"
            ]
          },
          "metadata": {
            "tags": []
          }
        }
      ]
    },
    {
      "cell_type": "markdown",
      "metadata": {
        "id": "7FmUdrN8FUO3"
      },
      "source": [
        "## Advanced 1: vmap"
      ]
    },
    {
      "cell_type": "code",
      "metadata": {
        "id": "NCQmn5YtExae"
      },
      "source": [
        "from jax import vmap\n",
        "grad_vect_simple_fun = vmap(grad_simple_fun)(x_range)"
      ],
      "execution_count": null,
      "outputs": []
    },
    {
      "cell_type": "code",
      "metadata": {
        "id": "AgVcLM-GGEbA",
        "outputId": "7cdd8bcb-750d-489d-9ce3-8d158365c863",
        "colab": {
          "base_uri": "https://localhost:8080/",
          "height": 364
        }
      },
      "source": [
        "plt.plot(x_range, grad_vect_simple_fun, '--r')"
      ],
      "execution_count": null,
      "outputs": [
        {
          "output_type": "execute_result",
          "data": {
            "text/plain": [
              "[<matplotlib.lines.Line2D at 0x7f8650591978>]"
            ]
          },
          "metadata": {
            "tags": []
          },
          "execution_count": 14
        },
        {
          "output_type": "display_data",
          "data": {
            "image/png": "[encoded data removed]",
            "text/plain": [
              "<matplotlib.figure.Figure at 0x7f86516e5f28>"
            ]
          },
          "metadata": {
            "tags": []
          }
        }
      ]
    },
    {
      "cell_type": "code",
      "metadata": {
        "id": "aS877j79GIWU",
        "outputId": "8dfeda8d-a8e0-4783-f2f6-b25f94fcca94",
        "colab": {
          "base_uri": "https://localhost:8080/",
          "height": 51
        }
      },
      "source": [
        "%timeit -n10 -r3 jit(lambda: [grad_simple_fun(xi) for xi in x_range])()\n",
        "%timeit -n10 -r3 vmap(grad_simple_fun)(x_range)"
      ],
      "execution_count": null,
      "outputs": [
        {
          "output_type": "stream",
          "text": [
            "10 loops, best of 3: 420 ms per loop\n",
            "10 loops, best of 3: 4.68 ms per loop\n"
          ],
          "name": "stdout"
        }
      ]
    },
    {
      "cell_type": "markdown",
      "metadata": {
        "id": "P6vbebKfTsPO"
      },
      "source": [
        "## Basic 2 - Pseudorandom number generation"
      ]
    },
    {
      "cell_type": "code",
      "metadata": {
        "id": "YRyOx_UOTRD-",
        "outputId": "d5b256d0-64ec-4d0f-cfc8-f4ba031e8a9b",
        "colab": {
          "base_uri": "https://localhost:8080/",
          "height": 51
        }
      },
      "source": [
        "from jax import random\n",
        "\n",
        "# Generate key\n",
        "key = random.PRNGKey(0)\n",
        "\n",
        "# Need key for pseudorandom functions\n",
        "print(random.normal(key, shape=(3,)))\n",
        "print(random.normal(key, shape=(3,)))"
      ],
      "execution_count": null,
      "outputs": [
        {
          "output_type": "stream",
          "text": [
            "[ 1.8160863  -0.48262316  0.33988908]\n",
            "[ 1.8160863  -0.48262316  0.33988908]\n"
          ],
          "name": "stdout"
        }
      ]
    },
    {
      "cell_type": "code",
      "metadata": {
        "id": "lUeNrZCiT55c",
        "outputId": "0e9316a8-ac14-4629-9a42-258e198acaaf",
        "colab": {
          "base_uri": "https://localhost:8080/",
          "height": 51
        }
      },
      "source": [
        "# For successive calls, need to split the key\n",
        "key, new_key = random.split(key)\n",
        "\n",
        "print(random.normal(key, shape=(3,)))\n",
        "print(random.normal(new_key, shape=(3,)))"
      ],
      "execution_count": null,
      "outputs": [
        {
          "output_type": "stream",
          "text": [
            "[ 0.13893168  0.509335   -0.53116107]\n",
            "[ 1.1378784  -1.2209548  -0.59153634]\n"
          ],
          "name": "stdout"
        }
      ]
    },
    {
      "cell_type": "markdown",
      "metadata": {
        "id": "Eohz75BTHEsA"
      },
      "source": [
        "## Some neural networks!"
      ]
    },
    {
      "cell_type": "code",
      "metadata": {
        "id": "1voYhleMGOss"
      },
      "source": [
        "from sklearn import datasets, model_selection, preprocessing\n",
        "data = datasets.load_iris()\n",
        "y = preprocessing.OneHotEncoder(sparse=False, categories='auto').fit_transform(data['target'].reshape(-1, 1))\n",
        "Xtrain, Xtest, ytrain, ytest = model_selection.train_test_split(data['data'], y)"
      ],
      "execution_count": null,
      "outputs": []
    },
    {
      "cell_type": "code",
      "metadata": {
        "id": "8hZ0jl6qHbpM"
      },
      "source": [
        "# Define the neural network\n",
        "from jax.experimental import stax\n",
        "from jax.experimental.stax import Dense, Relu, LogSoftmax\n",
        "\n",
        "net_init, net_apply = stax.serial(\n",
        "    Dense(10), Relu,\n",
        "    Dense(3), LogSoftmax,\n",
        ")"
      ],
      "execution_count": null,
      "outputs": []
    },
    {
      "cell_type": "code",
      "metadata": {
        "id": "L4zroQg6Iokl"
      },
      "source": [
        "out_shape, net_params = net_init((-1, 4))"
      ],
      "execution_count": null,
      "outputs": []
    },
    {
      "cell_type": "code",
      "metadata": {
        "id": "e2Nptw9MSvqs",
        "outputId": "762b493b-a073-498b-b550-82becff256cc",
        "colab": {
          "base_uri": "https://localhost:8080/",
          "height": 357
        }
      },
      "source": [
        "print(net_params)"
      ],
      "execution_count": null,
      "outputs": [
        {
          "output_type": "stream",
          "text": [
            "[(array([[-0.14994451, -0.30441993,  0.14186014,  0.7623606 ,  0.37557867,\n",
            "        -0.02608331, -0.71927243,  0.32833135, -0.7756463 , -0.2608348 ],\n",
            "       [-0.05847525,  0.20961495,  0.39558828, -0.05252603, -0.08971493,\n",
            "         0.51805866,  0.60114443, -0.59093916,  0.00298999, -0.3430339 ],\n",
            "       [ 1.1677904 ,  0.21431684,  0.13567886, -0.04100764,  0.9316747 ,\n",
            "         1.0500773 , -0.95003843,  0.61863554,  0.37563547, -0.5930566 ],\n",
            "       [-0.61191237, -0.40891197, -0.11991894, -0.4528012 ,  0.37535977,\n",
            "         0.33654782,  0.74536103,  0.32494336, -0.6906026 , -0.06419151]],\n",
            "      dtype=float32), array([-0.01415817,  0.01880777, -0.01178568,  0.00875717,  0.00063137,\n",
            "        0.01223112, -0.00755806, -0.00355607, -0.00992471,  0.00957811],\n",
            "      dtype=float32)), (), (array([[ 0.34959432,  0.8868258 ,  0.7674316 ],\n",
            "       [-0.574943  , -1.0832853 , -0.07267767],\n",
            "       [ 1.1170574 , -0.03164655,  0.3035556 ],\n",
            "       [ 0.05550315, -0.55876434, -0.09560312],\n",
            "       [ 0.13351656, -0.8988292 ,  0.26830852],\n",
            "       [ 0.95052326,  0.01150923,  0.38529044],\n",
            "       [ 0.46569815, -0.0118098 ,  0.10333532],\n",
            "       [ 0.3885428 , -0.79547316,  0.41043863],\n",
            "       [-0.28584585,  0.02676906, -0.33875254],\n",
            "       [-0.1319505 , -0.215104  ,  0.2960243 ]], dtype=float32), array([-0.00636762,  0.0127901 , -0.00357225], dtype=float32)), ()]\n"
          ],
          "name": "stdout"
        }
      ]
    },
    {
      "cell_type": "code",
      "metadata": {
        "id": "IJ0cUyPuSw1U",
        "outputId": "8df60641-08e2-4a63-ce95-bfc22f942f26",
        "colab": {
          "base_uri": "https://localhost:8080/",
          "height": 1921
        }
      },
      "source": [
        "print(net_apply(net_params, Xtrain))"
      ],
      "execution_count": null,
      "outputs": [
        {
          "output_type": "stream",
          "text": [
            "[[-3.19538116e-02 -1.84762192e+01 -3.45941210e+00]\n",
            " [-2.27580070e-02 -1.19376688e+01 -3.79449344e+00]\n",
            " [-3.74011993e-02 -1.11317797e+01 -3.30508924e+00]\n",
            " [-1.65901184e-02 -2.36853161e+01 -4.10721016e+00]\n",
            " [-3.82270813e-02 -1.10324955e+01 -3.28369308e+00]\n",
            " [-3.06277275e-02 -1.18963928e+01 -3.50135350e+00]\n",
            " [-1.95884705e-02 -2.22814007e+01 -3.94260406e+00]\n",
            " [-1.87468529e-02 -1.15998802e+01 -3.98658538e+00]\n",
            " [-4.77309227e-02 -1.01623087e+01 -3.06677437e+00]\n",
            " [-1.84679031e-02 -2.32490540e+01 -4.00095367e+00]\n",
            " [-1.49831772e-02 -2.37728767e+01 -4.20829391e+00]\n",
            " [-1.75571442e-02 -2.15150299e+01 -4.05107021e+00]\n",
            " [-2.97203064e-02 -2.04889164e+01 -3.53075981e+00]\n",
            " [-1.15394592e-02 -2.83169918e+01 -4.46767044e+00]\n",
            " [-4.53863144e-02 -1.58993511e+01 -3.11514807e+00]\n",
            " [-3.96552086e-02 -9.98019028e+00 -3.24848342e+00]\n",
            " [-1.75261497e-02 -1.19071865e+01 -4.05319548e+00]\n",
            " [-3.79548073e-02 -1.12043161e+01 -3.29063749e+00]\n",
            " [-2.09035873e-02 -1.99774437e+01 -3.87828064e+00]\n",
            " [-1.21345520e-02 -2.90250950e+01 -4.41782665e+00]\n",
            " [-2.24781036e-02 -2.08177547e+01 -3.80642986e+00]\n",
            " [-3.12795639e-02 -1.12419605e+01 -3.48081160e+00]\n",
            " [-2.32605934e-02 -1.17917919e+01 -3.77292562e+00]\n",
            " [-1.70574188e-02 -2.18792686e+01 -4.07970524e+00]\n",
            " [-1.75724030e-02 -2.20237503e+01 -4.05021000e+00]\n",
            " [-1.90229416e-02 -2.08257065e+01 -3.97158813e+00]\n",
            " [-1.94177628e-02 -2.14821815e+01 -3.95125103e+00]\n",
            " [-3.87597084e-02 -1.14831057e+01 -3.26996565e+00]\n",
            " [-1.94425583e-02 -2.46513138e+01 -3.95000458e+00]\n",
            " [-2.26140022e-02 -1.17315226e+01 -3.80082011e+00]\n",
            " [-1.58529282e-02 -2.12788582e+01 -4.15232372e+00]\n",
            " [-1.16863251e-02 -2.48961372e+01 -4.45514965e+00]\n",
            " [-2.64534950e-02 -1.20972672e+01 -3.64578390e+00]\n",
            " [-2.48184204e-02 -1.78011093e+01 -3.70855522e+00]\n",
            " [-3.76963615e-02 -1.04893513e+01 -3.29772830e+00]\n",
            " [-5.74302673e-03 -2.86591454e+01 -5.16248131e+00]\n",
            " [-3.63693237e-02 -1.10711250e+01 -3.33259940e+00]\n",
            " [-2.86617279e-02 -1.17323208e+01 -3.56677771e+00]\n",
            " [-2.22787857e-02 -1.16129360e+01 -3.81564355e+00]\n",
            " [-3.90205383e-02 -1.55139370e+01 -3.26311350e+00]\n",
            " [-2.11887360e-02 -1.25854025e+01 -3.86503243e+00]\n",
            " [-1.51844025e-02 -2.20333862e+01 -4.19507122e+00]\n",
            " [-1.21202469e-02 -2.44522743e+01 -4.41892815e+00]\n",
            " [-1.08833313e-02 -2.48429070e+01 -4.52597809e+00]\n",
            " [-9.88578796e-03 -2.73350468e+01 -4.62153053e+00]\n",
            " [-1.88584328e-02 -1.26002598e+01 -3.98039842e+00]\n",
            " [-1.11179352e-02 -2.36711617e+01 -4.50473309e+00]\n",
            " [-6.74824715e-02 -1.01215515e+01 -2.73005557e+00]\n",
            " [-1.43499374e-02 -2.36406384e+01 -4.25120735e+00]\n",
            " [-3.28922272e-02 -1.82049541e+01 -3.43091249e+00]\n",
            " [-1.98431015e-02 -2.21304932e+01 -3.92978096e+00]\n",
            " [-2.86836624e-02 -1.88267479e+01 -3.56574488e+00]\n",
            " [-2.01587677e-02 -2.10304298e+01 -3.91417217e+00]\n",
            " [-1.51844025e-02 -2.28739204e+01 -4.19509220e+00]\n",
            " [-1.62034035e-02 -1.19329958e+01 -4.13102484e+00]\n",
            " [-1.34315491e-02 -2.48268547e+01 -4.31682491e+00]\n",
            " [-2.07338333e-02 -2.02038269e+01 -3.88633728e+00]\n",
            " [-1.72929764e-02 -2.11191483e+01 -4.06607819e+00]\n",
            " [-1.42326355e-02 -2.15765762e+01 -4.25929546e+00]\n",
            " [-1.91392899e-02 -2.17798233e+01 -3.96555996e+00]\n",
            " [-2.18362808e-02 -1.96856174e+01 -3.83507252e+00]\n",
            " [-2.78820992e-02 -1.08776531e+01 -3.59436560e+00]\n",
            " [-1.08909607e-02 -2.59147892e+01 -4.52524376e+00]\n",
            " [-2.70738602e-02 -1.86215515e+01 -3.62268734e+00]\n",
            " [-2.90756226e-02 -1.13885479e+01 -3.55275774e+00]\n",
            " [-1.98469162e-02 -2.04957008e+01 -3.92959118e+00]\n",
            " [-3.71561050e-02 -1.75112343e+01 -3.31113863e+00]\n",
            " [-3.01575661e-02 -1.13152342e+01 -3.51676488e+00]\n",
            " [-2.70628929e-02 -1.16196699e+01 -3.62342572e+00]\n",
            " [-9.96208191e-03 -2.52424316e+01 -4.61394691e+00]\n",
            " [-1.29432678e-02 -2.31271591e+01 -4.35367489e+00]\n",
            " [-1.22089386e-02 -2.37171021e+01 -4.41166496e+00]\n",
            " [-2.30913162e-02 -1.93899498e+01 -3.77981615e+00]\n",
            " [-1.31158829e-02 -2.39092369e+01 -4.34048462e+00]\n",
            " [-1.01985931e-02 -2.80805664e+01 -4.59064865e+00]\n",
            " [-3.63540649e-02 -1.84510746e+01 -3.33257961e+00]\n",
            " [-2.18324661e-02 -2.19298477e+01 -3.83524513e+00]\n",
            " [-1.26876831e-02 -2.66737328e+01 -4.37345409e+00]\n",
            " [-4.01678085e-02 -1.09014130e+01 -3.23517561e+00]\n",
            " [-2.13518143e-02 -2.19369392e+01 -3.85729122e+00]\n",
            " [-7.13348389e-03 -2.68892593e+01 -4.94657135e+00]\n",
            " [-2.43320465e-02 -1.98974819e+01 -3.72809982e+00]\n",
            " [-1.57556534e-02 -2.13963947e+01 -4.15843105e+00]\n",
            " [-2.72507668e-02 -1.13552284e+01 -3.61670160e+00]\n",
            " [-4.77800369e-02 -9.27555752e+00 -3.06695533e+00]\n",
            " [-1.04904175e-02 -2.43537445e+01 -4.56252670e+00]\n",
            " [-3.22122574e-02 -1.90904579e+01 -3.45146370e+00]\n",
            " [-1.58605576e-02 -2.42166328e+01 -4.15182209e+00]\n",
            " [-1.31530762e-02 -2.52505608e+01 -4.33769989e+00]\n",
            " [-3.71456146e-02 -1.88686562e+01 -3.31143761e+00]\n",
            " [-2.07357407e-02 -2.13217278e+01 -3.88624668e+00]\n",
            " [-1.79233551e-02 -2.24488411e+01 -4.03059101e+00]\n",
            " [-1.29337311e-02 -1.26706123e+01 -4.35463619e+00]\n",
            " [-3.24201584e-02 -1.06137314e+01 -3.44590688e+00]\n",
            " [-1.83315277e-02 -2.22568436e+01 -4.00827980e+00]\n",
            " [-2.99830437e-02 -9.66728401e+00 -3.52422309e+00]\n",
            " [-1.07221603e-02 -2.56112976e+01 -4.54084206e+00]\n",
            " [-2.24618912e-02 -1.89053345e+01 -3.80713606e+00]\n",
            " [-2.72550583e-02 -1.23345699e+01 -3.61626959e+00]\n",
            " [-2.95076370e-02 -1.14609623e+01 -3.53818440e+00]\n",
            " [-2.41336823e-02 -2.18049049e+01 -3.73617172e+00]\n",
            " [-5.42430878e-02 -1.63006115e+01 -2.94128370e+00]\n",
            " [-2.90641785e-02 -1.21828012e+01 -3.55291963e+00]\n",
            " [-1.43308640e-02 -2.27620125e+01 -4.25248528e+00]\n",
            " [-3.61032486e-02 -1.78286514e+01 -3.33937263e+00]\n",
            " [-4.50873375e-02 -9.95607758e+00 -3.12268305e+00]\n",
            " [-1.92656517e-02 -1.29249191e+01 -3.95917606e+00]\n",
            " [-3.07979584e-02 -2.07474251e+01 -3.49566078e+00]\n",
            " [-3.99179459e-02 -1.06951618e+01 -3.24139833e+00]\n",
            " [-2.57120132e-02 -1.19443665e+01 -3.67388868e+00]\n",
            " [-2.97765732e-02 -1.92621517e+01 -3.52888584e+00]\n",
            " [-2.80499458e-02 -1.09912872e+01 -3.58836699e+00]]\n"
          ],
          "name": "stdout"
        }
      ]
    },
    {
      "cell_type": "code",
      "metadata": {
        "id": "qdxhxKiXUdET"
      },
      "source": [
        "def loss(params):\n",
        "  predictions = net_apply(params, Xtrain)\n",
        "  return - np.mean(ytrain * predictions)"
      ],
      "execution_count": null,
      "outputs": []
    },
    {
      "cell_type": "code",
      "metadata": {
        "id": "-lsZYrw0S4iV"
      },
      "source": [
        "from jax.experimental import minmax\n",
        "opt_init, opt_update = minmax.adam(step_size=0.01)"
      ],
      "execution_count": null,
      "outputs": []
    },
    {
      "cell_type": "code",
      "metadata": {
        "id": "UeuZM3FZUsew"
      },
      "source": [
        "from jax import value_and_grad\n",
        "@jit\n",
        "def step(i, opt_state):\n",
        "  params = minmax.get_params(opt_state)\n",
        "  l, g = value_and_grad(loss)(params)\n",
        "  return opt_update(i, g, opt_state), l"
      ],
      "execution_count": null,
      "outputs": []
    },
    {
      "cell_type": "code",
      "metadata": {
        "id": "IWkNcjJaV7DW"
      },
      "source": [
        "import numpy as onp\n",
        "\n",
        "opt_state = opt_init(net_params)\n",
        "l_history = onp.zeros(100)\n",
        "for i in range(100):\n",
        "  opt_state, l_history[i] = step(i, opt_state)\n",
        "net_params = minmax.get_params(opt_state)"
      ],
      "execution_count": null,
      "outputs": []
    },
    {
      "cell_type": "code",
      "metadata": {
        "id": "4b8iZiJzaN75",
        "outputId": "aba8976d-75c2-4bbd-d5d8-14e50cb3de91",
        "colab": {
          "base_uri": "https://localhost:8080/",
          "height": 347
        }
      },
      "source": [
        "import matplotlib.pyplot as plt\n",
        "plt.plot(l_history)\n",
        "plt.show()"
      ],
      "execution_count": null,
      "outputs": [
        {
          "output_type": "display_data",
          "data": {
            "image/png": "[encoded data removed]",
            "text/plain": [
              "<matplotlib.figure.Figure at 0x7f863e1f9358>"
            ]
          },
          "metadata": {
            "tags": []
          }
        }
      ]
    },
    {
      "cell_type": "code",
      "metadata": {
        "id": "0JEUaHPrV9PZ",
        "outputId": "7bcac5cc-1f9d-4e79-8f75-8bf7633a616a",
        "colab": {
          "base_uri": "https://localhost:8080/",
          "height": 34
        }
      },
      "source": [
        "ytrue = np.argmax(ytest, axis=1)\n",
        "ypred = np.argmax(net_apply(net_params, Xtest), axis=1)\n",
        "print(np.mean(ytrue == ypred))"
      ],
      "execution_count": null,
      "outputs": [
        {
          "output_type": "stream",
          "text": [
            "0.94736844\n"
          ],
          "name": "stdout"
        }
      ]
    }
  ]
}